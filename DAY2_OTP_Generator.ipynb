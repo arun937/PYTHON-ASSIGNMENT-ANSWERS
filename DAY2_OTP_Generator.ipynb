{
  "nbformat": 4,
  "nbformat_minor": 0,
  "metadata": {
    "colab": {
      "name": "OTP Generator.ipynb",
      "provenance": []
    },
    "kernelspec": {
      "name": "python3",
      "display_name": "Python 3"
    },
    "language_info": {
      "name": "python"
    }
  },
  "cells": [
    {
      "cell_type": "code",
      "metadata": {
        "colab": {
          "base_uri": "https://localhost:8080/"
        },
        "id": "FoSBliQ_ZXvB",
        "outputId": "b31c951e-99e6-490c-c092-dc76d2e55fc9"
      },
      "source": [
        "import random as r\n",
        "\n",
        "import string\n",
        "\n",
        "length = 8\n",
        "\n",
        "otp = ''\n",
        "\n",
        "characters = string.ascii_letters + string.digits \n",
        "print(characters)\n",
        "\n",
        "for i in range (length):\n",
        "\n",
        " otp = otp + r.choice(characters)\n",
        "\n",
        "print(\"OTP:\", otp)"
      ],
      "execution_count": 5,
      "outputs": [
        {
          "output_type": "stream",
          "text": [
            "abcdefghijklmnopqrstuvwxyzABCDEFGHIJKLMNOPQRSTUVWXYZ0123456789\n",
            "OTP: Ojkd7Qjn\n"
          ],
          "name": "stdout"
        }
      ]
    }
  ]
}