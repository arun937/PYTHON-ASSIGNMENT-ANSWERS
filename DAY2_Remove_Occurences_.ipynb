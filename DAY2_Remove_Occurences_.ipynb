{
  "nbformat": 4,
  "nbformat_minor": 0,
  "metadata": {
    "colab": {
      "name": "Arun_Remove Occurences .ipynb",
      "provenance": [],
      "collapsed_sections": []
    },
    "kernelspec": {
      "name": "python3",
      "display_name": "Python 3"
    },
    "language_info": {
      "name": "python"
    }
  },
  "cells": [
    {
      "cell_type": "code",
      "metadata": {
        "colab": {
          "base_uri": "https://localhost:8080/"
        },
        "id": "sg4OlDqMz_1g",
        "outputId": "187485c7-a540-4107-a0d7-33b9e1a5da97"
      },
      "source": [
        "def remove_values_from_list(the_list, val):\n",
        "   return [value for value in the_list if value != val]\n",
        "\n",
        "x = [1, 2, 3, 4, 2, 2, 5]\n",
        "x = remove_values_from_list(x, 2)\n",
        "print(x)"
      ],
      "execution_count": 1,
      "outputs": [
        {
          "output_type": "stream",
          "text": [
            "[1, 3, 4, 5]\n"
          ],
          "name": "stdout"
        }
      ]
    }
  ]
}