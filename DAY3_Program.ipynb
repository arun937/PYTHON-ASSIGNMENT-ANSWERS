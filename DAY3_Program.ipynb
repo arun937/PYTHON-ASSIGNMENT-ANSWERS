{
  "nbformat": 4,
  "nbformat_minor": 0,
  "metadata": {
    "colab": {
      "name": "Untitled5.ipynb",
      "provenance": [],
      "collapsed_sections": []
    },
    "kernelspec": {
      "name": "python3",
      "display_name": "Python 3"
    },
    "language_info": {
      "name": "python"
    }
  },
  "cells": [
    {
      "cell_type": "code",
      "metadata": {
        "colab": {
          "base_uri": "https://localhost:8080/"
        },
        "id": "o5ZTf8jmpmod",
        "outputId": "5a9b031e-42c9-4a67-80a9-d507a1d4b32b"
      },
      "source": [
        "#list of gifts given to the respective persons\n",
        "person_list={'1':2, '2':1, '3':4, '4':5, '5':3}\n",
        "print('Gifts presented to: ',person_list.values())\n",
        "\n",
        "#list of the persons from whom they received gifts\n",
        "person_list={1:2, 2:1, 3:4, 4:5, 5:3, 3:2}\n",
        "print('Gifts presented by:  ', sorted(person_list))\n"
      ],
      "execution_count": 14,
      "outputs": [
        {
          "output_type": "stream",
          "text": [
            "Gifts presented to:  dict_values([2, 1, 4, 5, 3])\n",
            "Gifts presented by:   [1, 2, 3, 4, 5]\n"
          ],
          "name": "stdout"
        }
      ]
    }
  ]
}