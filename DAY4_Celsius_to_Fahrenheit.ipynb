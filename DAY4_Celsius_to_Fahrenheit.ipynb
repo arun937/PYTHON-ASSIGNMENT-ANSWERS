{
  "nbformat": 4,
  "nbformat_minor": 0,
  "metadata": {
    "colab": {
      "name": "DAY4_Celsius to Fahrenheit.ipynb",
      "provenance": [],
      "collapsed_sections": []
    },
    "kernelspec": {
      "name": "python3",
      "display_name": "Python 3"
    },
    "language_info": {
      "name": "python"
    }
  },
  "cells": [
    {
      "cell_type": "code",
      "metadata": {
        "colab": {
          "base_uri": "https://localhost:8080/"
        },
        "id": "c5ZIeOkmwfBu",
        "outputId": "f59306cd-6dbf-43f8-f2bc-444e8565f9ee"
      },
      "source": [
        "celsius = float(input('Enter temperature in Celsius: '))  \n",
        "   \n",
        "fahrenheit = (celsius * 9/5) + 32  \n",
        "print('%0.1f  Celsius is equal to %0.1f degree Fahrenheit'%(celsius,fahrenheit))"
      ],
      "execution_count": 1,
      "outputs": [
        {
          "output_type": "stream",
          "text": [
            "Enter temperature in Celsius: 50\n",
            "50.0  Celsius is equal to 122.0 degree Fahrenheit\n"
          ],
          "name": "stdout"
        }
      ]
    }
  ]
}