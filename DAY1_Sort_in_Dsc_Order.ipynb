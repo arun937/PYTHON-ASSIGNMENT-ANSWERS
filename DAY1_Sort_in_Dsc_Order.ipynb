{
  "nbformat": 4,
  "nbformat_minor": 0,
  "metadata": {
    "colab": {
      "name": "Sorting List Dsc Order.ipynb",
      "provenance": [],
      "collapsed_sections": []
    },
    "kernelspec": {
      "name": "python3",
      "display_name": "Python 3"
    },
    "language_info": {
      "name": "python"
    }
  },
  "cells": [
    {
      "cell_type": "code",
      "metadata": {
        "colab": {
          "base_uri": "https://localhost:8080/"
        },
        "id": "5IWBzrPYW7eh",
        "outputId": "cd9417b0-4cec-4893-afff-ee5540d9e07b"
      },
      "source": [
        "li= [int(i) for i in input('enter the values: ').split()]\n"
      ],
      "execution_count": 1,
      "outputs": [
        {
          "output_type": "stream",
          "text": [
            "enter the values: 7 1 8 2 9 3\n"
          ],
          "name": "stdout"
        }
      ]
    },
    {
      "cell_type": "code",
      "metadata": {
        "colab": {
          "base_uri": "https://localhost:8080/"
        },
        "id": "MxksSaLRXM-e",
        "outputId": "fdaeeb15-800e-41b0-fe54-fc171fb7c8bd"
      },
      "source": [
        "li.sort(reverse=True)\n",
        "print(li)"
      ],
      "execution_count": 2,
      "outputs": [
        {
          "output_type": "stream",
          "text": [
            "[9, 8, 7, 3, 2, 1]\n"
          ],
          "name": "stdout"
        }
      ]
    }
  ]
}